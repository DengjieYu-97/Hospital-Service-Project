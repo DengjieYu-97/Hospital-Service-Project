{
 "cells": [
  {
   "cell_type": "code",
   "execution_count": 25,
   "metadata": {},
   "outputs": [],
   "source": [
    "# Display plots inline\n",
    "%matplotlib inline\n",
    "\n",
    "# Data libraries\n",
    "import pandas as pd\n",
    "import numpy as np\n",
    "\n",
    "# Plotting libraries\n",
    "import matplotlib.pyplot as plt\n",
    "import seaborn as sns\n",
    "\n",
    "# Plotting defaults\n",
    "plt.rcParams['figure.figsize'] = (10,6)\n",
    "plt.rcParams['figure.dpi'] = 80\n",
    "# Import Dataset\n",
    "treatment = pd.read_csv(\"treatment.csv\",low_memory=False)\n",
    "treatment_age_and_sex = pd.read_csv(\"treatment_age_and_sex.csv\",low_memory=False)\n",
    "treatment_specialty = pd.read_csv(\"treatment_specialty.csv\",low_memory=False)\n",
    "treatment_simd = pd.read_csv(\"treatment_simd.csv\",low_memory=False)\n",
    "merged_data = pd.read_csv(\"Merged_data.csv\",low_memory=False)"
   ]
  },
  {
   "cell_type": "code",
   "execution_count": 26,
   "metadata": {},
   "outputs": [
    {
     "data": {
      "text/plain": [
       "130354"
      ]
     },
     "execution_count": 26,
     "metadata": {},
     "output_type": "execute_result"
    }
   ],
   "source": [
    "len(merged_data)"
   ]
  },
  {
   "cell_type": "code",
   "execution_count": 27,
   "metadata": {},
   "outputs": [
    {
     "data": {
      "text/plain": [
       "90975"
      ]
     },
     "execution_count": 27,
     "metadata": {},
     "output_type": "execute_result"
    }
   ],
   "source": [
    "col=list(merged_data.columns)\n",
    "QFcol=['QuarterQF','HBQF','LocationQF','AdmissionTypeQF','AverageLengthOfEpisodeQF','AverageLengthOfStayQF']\n",
    "#QFcol=['QuarterQF','HBQF','LocationQF','AdmissionTypeQF']\n",
    "Averagecol=[]\n",
    "for i in col:\n",
    "    if i.startswith('Average'):\n",
    "        Averagecol.append(i)\n",
    "\n",
    "for i in QFcol:\n",
    "    ind=merged_data[i] != 'z'\n",
    "    merged_data= merged_data.loc[ind,]\n",
    "for i in QFcol:\n",
    "    ind=merged_data[i] != 'p'\n",
    "    merged_data= merged_data.loc[ind,]\n",
    "for i in Averagecol:\n",
    "    merged_data[i] =merged_data[i].apply(pd.to_numeric,errors='coerce')\n",
    "len(merged_data)"
   ]
  },
  {
   "cell_type": "code",
   "execution_count": 28,
   "metadata": {},
   "outputs": [],
   "source": [
    "import re\n",
    "n=len(merged_data)\n",
    "age=[]\n",
    "Age=list(merged_data['Age'])\n",
    "for i in range(0,n):\n",
    "    s=Age[i]\n",
    "    f=re.findall('(\\d+)',s)\n",
    "    m=len(f)\n",
    "    if m==1:\n",
    "        nums=95\n",
    "    else:\n",
    "        nums=[int(f[0]),int(f[1])]\n",
    "    age.append(np.median(nums))\n",
    "merged_data['Age']=age"
   ]
  },
  {
   "cell_type": "code",
   "execution_count": 29,
   "metadata": {},
   "outputs": [],
   "source": [
    "merged_data['Year']=merged_data['Quarter'].map(lambda x:x.split('Q')[0])\n",
    "merged_data['Quarters']='Q'+merged_data['Quarter'].map(lambda x:x.split('Q')[1])\n",
    "merged_data=merged_data.drop(columns=['Unnamed: 0','Quarter'])\n",
    "merged_data=merged_data.drop(columns=QFcol)"
   ]
  },
  {
   "cell_type": "code",
   "execution_count": 30,
   "metadata": {},
   "outputs": [],
   "source": [
    "merged_data.to_csv('Processed_data.csv')"
   ]
  },
  {
   "cell_type": "code",
   "execution_count": null,
   "metadata": {},
   "outputs": [],
   "source": []
  }
 ],
 "metadata": {
  "kernelspec": {
   "display_name": "Python 3",
   "language": "python",
   "name": "python3"
  },
  "language_info": {
   "codemirror_mode": {
    "name": "ipython",
    "version": 3
   },
   "file_extension": ".py",
   "mimetype": "text/x-python",
   "name": "python",
   "nbconvert_exporter": "python",
   "pygments_lexer": "ipython3",
   "version": "3.7.6"
  }
 },
 "nbformat": 4,
 "nbformat_minor": 4
}
